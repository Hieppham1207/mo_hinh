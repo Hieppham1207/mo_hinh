{
 "cells": [
  {
   "cell_type": "code",
   "execution_count": 2,
   "metadata": {},
   "outputs": [
    {
     "name": "stderr",
     "output_type": "stream",
     "text": [
      "c:\\Users\\DELL\\anaconda3\\Lib\\site-packages\\numpy\\_distributor_init.py:30: UserWarning: loaded more than 1 DLL from .libs:\n",
      "c:\\Users\\DELL\\anaconda3\\Lib\\site-packages\\numpy\\.libs\\libopenblas.FB5AE2TYXYH2IJRDKGDGQ3XBKLKTF43H.gfortran-win_amd64.dll\n",
      "c:\\Users\\DELL\\anaconda3\\Lib\\site-packages\\numpy\\.libs\\libopenblas64__v0.3.21-gcc_10_3_0.dll\n",
      "  warnings.warn(\"loaded more than 1 DLL from .libs:\"\n"
     ]
    }
   ],
   "source": [
    "import pandas as pd\n",
    "import matplotlib.pyplot as plt\n",
    "import numpy as np"
   ]
  },
  {
   "cell_type": "code",
   "execution_count": 4,
   "metadata": {},
   "outputs": [
    {
     "data": {
      "text/html": [
       "<div>\n",
       "<style scoped>\n",
       "    .dataframe tbody tr th:only-of-type {\n",
       "        vertical-align: middle;\n",
       "    }\n",
       "\n",
       "    .dataframe tbody tr th {\n",
       "        vertical-align: top;\n",
       "    }\n",
       "\n",
       "    .dataframe thead th {\n",
       "        text-align: right;\n",
       "    }\n",
       "</style>\n",
       "<table border=\"1\" class=\"dataframe\">\n",
       "  <thead>\n",
       "    <tr style=\"text-align: right;\">\n",
       "      <th></th>\n",
       "      <th>Title</th>\n",
       "      <th>Bedrooms</th>\n",
       "      <th>Bathrooms</th>\n",
       "      <th>Floor_no</th>\n",
       "      <th>Occupancy_status</th>\n",
       "      <th>Floor_area</th>\n",
       "      <th>City</th>\n",
       "      <th>Price_in_taka</th>\n",
       "      <th>Location</th>\n",
       "    </tr>\n",
       "  </thead>\n",
       "  <tbody>\n",
       "    <tr>\n",
       "      <th>0</th>\n",
       "      <td>We Are Offering You A Very Spacious 1960 Sq Ft...</td>\n",
       "      <td>3.0</td>\n",
       "      <td>4.0</td>\n",
       "      <td>3</td>\n",
       "      <td>vacant</td>\n",
       "      <td>1960.0</td>\n",
       "      <td>dhaka</td>\n",
       "      <td>৳39,000,000</td>\n",
       "      <td>Gulshan 1, Gulshan</td>\n",
       "    </tr>\n",
       "    <tr>\n",
       "      <th>1</th>\n",
       "      <td>Valuable 1705 Square Feet Apartment Is Ready T...</td>\n",
       "      <td>3.0</td>\n",
       "      <td>3.0</td>\n",
       "      <td>1</td>\n",
       "      <td>vacant</td>\n",
       "      <td>1705.0</td>\n",
       "      <td>dhaka</td>\n",
       "      <td>৳16,900,000</td>\n",
       "      <td>Lake Circus Road, Kalabagan</td>\n",
       "    </tr>\n",
       "    <tr>\n",
       "      <th>2</th>\n",
       "      <td>1370 square feet apartment is ready to sale in...</td>\n",
       "      <td>3.0</td>\n",
       "      <td>3.0</td>\n",
       "      <td>6</td>\n",
       "      <td>vacant</td>\n",
       "      <td>1370.0</td>\n",
       "      <td>dhaka</td>\n",
       "      <td>৳12,500,000</td>\n",
       "      <td>Shukrabad, Dhanmondi</td>\n",
       "    </tr>\n",
       "    <tr>\n",
       "      <th>3</th>\n",
       "      <td>2125 Square Feet Apartment For Sale In Bashund...</td>\n",
       "      <td>3.0</td>\n",
       "      <td>3.0</td>\n",
       "      <td>4</td>\n",
       "      <td>vacant</td>\n",
       "      <td>2125.0</td>\n",
       "      <td>dhaka</td>\n",
       "      <td>৳20,000,000</td>\n",
       "      <td>Block L, Bashundhara R-A</td>\n",
       "    </tr>\n",
       "    <tr>\n",
       "      <th>4</th>\n",
       "      <td>Buy This 2687 Square Feet Flat In The Nice Are...</td>\n",
       "      <td>3.0</td>\n",
       "      <td>3.0</td>\n",
       "      <td>4</td>\n",
       "      <td>vacant</td>\n",
       "      <td>2687.0</td>\n",
       "      <td>dhaka</td>\n",
       "      <td>৳47,500,000</td>\n",
       "      <td>Road No 25, Banani</td>\n",
       "    </tr>\n",
       "    <tr>\n",
       "      <th>...</th>\n",
       "      <td>...</td>\n",
       "      <td>...</td>\n",
       "      <td>...</td>\n",
       "      <td>...</td>\n",
       "      <td>...</td>\n",
       "      <td>...</td>\n",
       "      <td>...</td>\n",
       "      <td>...</td>\n",
       "      <td>...</td>\n",
       "    </tr>\n",
       "    <tr>\n",
       "      <th>3860</th>\n",
       "      <td>Buy This 1350 Sq Ft Amazing Flat In Gazipur, J...</td>\n",
       "      <td>3.0</td>\n",
       "      <td>3.0</td>\n",
       "      <td>8</td>\n",
       "      <td>vacant</td>\n",
       "      <td>1350.0</td>\n",
       "      <td>gazipur</td>\n",
       "      <td>৳4,500,000</td>\n",
       "      <td>Joydebpur, Gazipur Sadar Upazila</td>\n",
       "    </tr>\n",
       "    <tr>\n",
       "      <th>3861</th>\n",
       "      <td>Properly Designed This 1000 Square Feet Apartm...</td>\n",
       "      <td>2.0</td>\n",
       "      <td>2.0</td>\n",
       "      <td>7</td>\n",
       "      <td>vacant</td>\n",
       "      <td>1000.0</td>\n",
       "      <td>gazipur</td>\n",
       "      <td>৳4,300,000</td>\n",
       "      <td>Chandana, Gazipur Sadar Upazila</td>\n",
       "    </tr>\n",
       "    <tr>\n",
       "      <th>3862</th>\n",
       "      <td>1240 Sq Ft Flat For Sale Is Awaiting You In Ga...</td>\n",
       "      <td>3.0</td>\n",
       "      <td>3.0</td>\n",
       "      <td>9</td>\n",
       "      <td>vacant</td>\n",
       "      <td>1240.0</td>\n",
       "      <td>gazipur</td>\n",
       "      <td>৳4,960,000</td>\n",
       "      <td>Joydebpur, Gazipur Sadar Upazila</td>\n",
       "    </tr>\n",
       "    <tr>\n",
       "      <th>3863</th>\n",
       "      <td>An Apartment Of 1300 Sq Ft Is Up For Sale In J...</td>\n",
       "      <td>3.0</td>\n",
       "      <td>3.0</td>\n",
       "      <td>9</td>\n",
       "      <td>vacant</td>\n",
       "      <td>1300.0</td>\n",
       "      <td>gazipur</td>\n",
       "      <td>৳5,200,000</td>\n",
       "      <td>Joydebpur, Gazipur Sadar Upazila</td>\n",
       "    </tr>\n",
       "    <tr>\n",
       "      <th>3864</th>\n",
       "      <td>1350 Sq Ft Residential Apartment For Sale In G...</td>\n",
       "      <td>3.0</td>\n",
       "      <td>3.0</td>\n",
       "      <td>8</td>\n",
       "      <td>vacant</td>\n",
       "      <td>1350.0</td>\n",
       "      <td>gazipur</td>\n",
       "      <td>৳4,500,000</td>\n",
       "      <td>Joydebpur, Gazipur Sadar Upazila</td>\n",
       "    </tr>\n",
       "  </tbody>\n",
       "</table>\n",
       "<p>3865 rows × 9 columns</p>\n",
       "</div>"
      ],
      "text/plain": [
       "                                                  Title  Bedrooms  Bathrooms  \\\n",
       "0     We Are Offering You A Very Spacious 1960 Sq Ft...       3.0        4.0   \n",
       "1     Valuable 1705 Square Feet Apartment Is Ready T...       3.0        3.0   \n",
       "2     1370 square feet apartment is ready to sale in...       3.0        3.0   \n",
       "3     2125 Square Feet Apartment For Sale In Bashund...       3.0        3.0   \n",
       "4     Buy This 2687 Square Feet Flat In The Nice Are...       3.0        3.0   \n",
       "...                                                 ...       ...        ...   \n",
       "3860  Buy This 1350 Sq Ft Amazing Flat In Gazipur, J...       3.0        3.0   \n",
       "3861  Properly Designed This 1000 Square Feet Apartm...       2.0        2.0   \n",
       "3862  1240 Sq Ft Flat For Sale Is Awaiting You In Ga...       3.0        3.0   \n",
       "3863  An Apartment Of 1300 Sq Ft Is Up For Sale In J...       3.0        3.0   \n",
       "3864  1350 Sq Ft Residential Apartment For Sale In G...       3.0        3.0   \n",
       "\n",
       "     Floor_no Occupancy_status  Floor_area     City Price_in_taka  \\\n",
       "0           3           vacant      1960.0    dhaka   ৳39,000,000   \n",
       "1           1           vacant      1705.0    dhaka   ৳16,900,000   \n",
       "2           6           vacant      1370.0    dhaka   ৳12,500,000   \n",
       "3           4           vacant      2125.0    dhaka   ৳20,000,000   \n",
       "4           4           vacant      2687.0    dhaka   ৳47,500,000   \n",
       "...       ...              ...         ...      ...           ...   \n",
       "3860        8           vacant      1350.0  gazipur    ৳4,500,000   \n",
       "3861        7           vacant      1000.0  gazipur    ৳4,300,000   \n",
       "3862        9           vacant      1240.0  gazipur    ৳4,960,000   \n",
       "3863        9           vacant      1300.0  gazipur    ৳5,200,000   \n",
       "3864        8           vacant      1350.0  gazipur    ৳4,500,000   \n",
       "\n",
       "                              Location  \n",
       "0                   Gulshan 1, Gulshan  \n",
       "1          Lake Circus Road, Kalabagan  \n",
       "2                 Shukrabad, Dhanmondi  \n",
       "3             Block L, Bashundhara R-A  \n",
       "4                   Road No 25, Banani  \n",
       "...                                ...  \n",
       "3860  Joydebpur, Gazipur Sadar Upazila  \n",
       "3861   Chandana, Gazipur Sadar Upazila  \n",
       "3862  Joydebpur, Gazipur Sadar Upazila  \n",
       "3863  Joydebpur, Gazipur Sadar Upazila  \n",
       "3864  Joydebpur, Gazipur Sadar Upazila  \n",
       "\n",
       "[3865 rows x 9 columns]"
      ]
     },
     "execution_count": 4,
     "metadata": {},
     "output_type": "execute_result"
    }
   ],
   "source": [
    "data=pd.read_csv('Data/house_price_bd.csv')\n",
    "data"
   ]
  },
  {
   "cell_type": "code",
   "execution_count": 8,
   "metadata": {},
   "outputs": [],
   "source": [
    "data.fillna(0, inplace=True)"
   ]
  },
  {
   "cell_type": "code",
   "execution_count": 9,
   "metadata": {},
   "outputs": [
    {
     "data": {
      "text/plain": [
       "Title               0\n",
       "Bedrooms            0\n",
       "Bathrooms           0\n",
       "Floor_no            0\n",
       "Occupancy_status    0\n",
       "Floor_area          0\n",
       "City                0\n",
       "Price_in_taka       0\n",
       "Location            0\n",
       "dtype: int64"
      ]
     },
     "execution_count": 9,
     "metadata": {},
     "output_type": "execute_result"
    }
   ],
   "source": [
    "data.isnull().sum()"
   ]
  },
  {
   "cell_type": "code",
   "execution_count": 10,
   "metadata": {},
   "outputs": [
    {
     "data": {
      "text/plain": [
       "Index(['Title', 'Bedrooms', 'Bathrooms', 'Floor_no', 'Occupancy_status',\n",
       "       'Floor_area', 'City', 'Price_in_taka', 'Location'],\n",
       "      dtype='object')"
      ]
     },
     "execution_count": 10,
     "metadata": {},
     "output_type": "execute_result"
    }
   ],
   "source": [
    "data.columns"
   ]
  },
  {
   "cell_type": "code",
   "execution_count": 12,
   "metadata": {},
   "outputs": [
    {
     "data": {
      "text/plain": [
       "vacant      3763\n",
       "0             99\n",
       "occupied       3\n",
       "Name: Occupancy_status, dtype: int64"
      ]
     },
     "execution_count": 12,
     "metadata": {},
     "output_type": "execute_result"
    }
   ],
   "source": [
    "data['Occupancy_status'].value_counts()"
   ]
  },
  {
   "cell_type": "code",
   "execution_count": 14,
   "metadata": {},
   "outputs": [
    {
     "data": {
      "text/html": [
       "<div>\n",
       "<style scoped>\n",
       "    .dataframe tbody tr th:only-of-type {\n",
       "        vertical-align: middle;\n",
       "    }\n",
       "\n",
       "    .dataframe tbody tr th {\n",
       "        vertical-align: top;\n",
       "    }\n",
       "\n",
       "    .dataframe thead th {\n",
       "        text-align: right;\n",
       "    }\n",
       "</style>\n",
       "<table border=\"1\" class=\"dataframe\">\n",
       "  <thead>\n",
       "    <tr style=\"text-align: right;\">\n",
       "      <th></th>\n",
       "      <th>Bedrooms</th>\n",
       "      <th>Bathrooms</th>\n",
       "      <th>Floor_area</th>\n",
       "    </tr>\n",
       "  </thead>\n",
       "  <tbody>\n",
       "    <tr>\n",
       "      <th>count</th>\n",
       "      <td>3865.000000</td>\n",
       "      <td>3865.000000</td>\n",
       "      <td>3865.000000</td>\n",
       "    </tr>\n",
       "    <tr>\n",
       "      <th>mean</th>\n",
       "      <td>2.321604</td>\n",
       "      <td>2.217594</td>\n",
       "      <td>1890.599741</td>\n",
       "    </tr>\n",
       "    <tr>\n",
       "      <th>std</th>\n",
       "      <td>2.349686</td>\n",
       "      <td>1.558388</td>\n",
       "      <td>5955.134973</td>\n",
       "    </tr>\n",
       "    <tr>\n",
       "      <th>min</th>\n",
       "      <td>0.000000</td>\n",
       "      <td>0.000000</td>\n",
       "      <td>0.000000</td>\n",
       "    </tr>\n",
       "    <tr>\n",
       "      <th>25%</th>\n",
       "      <td>0.000000</td>\n",
       "      <td>0.000000</td>\n",
       "      <td>1080.000000</td>\n",
       "    </tr>\n",
       "    <tr>\n",
       "      <th>50%</th>\n",
       "      <td>3.000000</td>\n",
       "      <td>3.000000</td>\n",
       "      <td>1365.000000</td>\n",
       "    </tr>\n",
       "    <tr>\n",
       "      <th>75%</th>\n",
       "      <td>3.000000</td>\n",
       "      <td>3.000000</td>\n",
       "      <td>1815.000000</td>\n",
       "    </tr>\n",
       "    <tr>\n",
       "      <th>max</th>\n",
       "      <td>50.000000</td>\n",
       "      <td>10.000000</td>\n",
       "      <td>195840.000000</td>\n",
       "    </tr>\n",
       "  </tbody>\n",
       "</table>\n",
       "</div>"
      ],
      "text/plain": [
       "          Bedrooms    Bathrooms     Floor_area\n",
       "count  3865.000000  3865.000000    3865.000000\n",
       "mean      2.321604     2.217594    1890.599741\n",
       "std       2.349686     1.558388    5955.134973\n",
       "min       0.000000     0.000000       0.000000\n",
       "25%       0.000000     0.000000    1080.000000\n",
       "50%       3.000000     3.000000    1365.000000\n",
       "75%       3.000000     3.000000    1815.000000\n",
       "max      50.000000    10.000000  195840.000000"
      ]
     },
     "execution_count": 14,
     "metadata": {},
     "output_type": "execute_result"
    }
   ],
   "source": [
    "data.describe()"
   ]
  },
  {
   "cell_type": "code",
   "execution_count": 15,
   "metadata": {},
   "outputs": [
    {
     "data": {
      "text/html": [
       "<div>\n",
       "<style scoped>\n",
       "    .dataframe tbody tr th:only-of-type {\n",
       "        vertical-align: middle;\n",
       "    }\n",
       "\n",
       "    .dataframe tbody tr th {\n",
       "        vertical-align: top;\n",
       "    }\n",
       "\n",
       "    .dataframe thead th {\n",
       "        text-align: right;\n",
       "    }\n",
       "</style>\n",
       "<table border=\"1\" class=\"dataframe\">\n",
       "  <thead>\n",
       "    <tr style=\"text-align: right;\">\n",
       "      <th></th>\n",
       "      <th>Title</th>\n",
       "      <th>Floor_no</th>\n",
       "      <th>Occupancy_status</th>\n",
       "      <th>City</th>\n",
       "      <th>Price_in_taka</th>\n",
       "      <th>Location</th>\n",
       "    </tr>\n",
       "  </thead>\n",
       "  <tbody>\n",
       "    <tr>\n",
       "      <th>count</th>\n",
       "      <td>3865</td>\n",
       "      <td>3865</td>\n",
       "      <td>3865</td>\n",
       "      <td>3865</td>\n",
       "      <td>3865</td>\n",
       "      <td>3865</td>\n",
       "    </tr>\n",
       "    <tr>\n",
       "      <th>unique</th>\n",
       "      <td>2920</td>\n",
       "      <td>26</td>\n",
       "      <td>3</td>\n",
       "      <td>5</td>\n",
       "      <td>702</td>\n",
       "      <td>506</td>\n",
       "    </tr>\n",
       "    <tr>\n",
       "      <th>top</th>\n",
       "      <td>We Are Offering You A Very Spacious 1960 Sq Ft...</td>\n",
       "      <td>0</td>\n",
       "      <td>vacant</td>\n",
       "      <td>dhaka</td>\n",
       "      <td>৳4,575,000</td>\n",
       "      <td>Rupganj, Narayanganj</td>\n",
       "    </tr>\n",
       "    <tr>\n",
       "      <th>freq</th>\n",
       "      <td>4</td>\n",
       "      <td>684</td>\n",
       "      <td>3763</td>\n",
       "      <td>1650</td>\n",
       "      <td>177</td>\n",
       "      <td>411</td>\n",
       "    </tr>\n",
       "  </tbody>\n",
       "</table>\n",
       "</div>"
      ],
      "text/plain": [
       "                                                    Title  Floor_no  \\\n",
       "count                                                3865      3865   \n",
       "unique                                               2920        26   \n",
       "top     We Are Offering You A Very Spacious 1960 Sq Ft...         0   \n",
       "freq                                                    4       684   \n",
       "\n",
       "       Occupancy_status   City Price_in_taka              Location  \n",
       "count              3865   3865          3865                  3865  \n",
       "unique                3      5           702                   506  \n",
       "top              vacant  dhaka    ৳4,575,000  Rupganj, Narayanganj  \n",
       "freq               3763   1650           177                   411  "
      ]
     },
     "execution_count": 15,
     "metadata": {},
     "output_type": "execute_result"
    }
   ],
   "source": [
    "data.describe(include='O')"
   ]
  },
  {
   "cell_type": "code",
   "execution_count": 16,
   "metadata": {},
   "outputs": [
    {
     "data": {
      "text/plain": [
       "0                       684\n",
       "1                       532\n",
       "4                       418\n",
       "5                       402\n",
       "2                       397\n",
       "3                       366\n",
       "6                       316\n",
       "7                       252\n",
       "8                       228\n",
       "9                       167\n",
       "10                       30\n",
       "11                       26\n",
       "12                       19\n",
       "13                        8\n",
       "Merin City - Purbach      6\n",
       "14                        2\n",
       "8th                       2\n",
       "4th to 8th Backside       2\n",
       "1st                       1\n",
       "A1,A2,A3,A4,A5,A6,A7      1\n",
       "0+7                       1\n",
       "1F                        1\n",
       "18                        1\n",
       "5th                       1\n",
       "17                        1\n",
       "G+7                       1\n",
       "Name: Floor_no, dtype: int64"
      ]
     },
     "execution_count": 16,
     "metadata": {},
     "output_type": "execute_result"
    }
   ],
   "source": [
    "data['Floor_no'].value_counts()"
   ]
  },
  {
   "cell_type": "code",
   "execution_count": 17,
   "metadata": {},
   "outputs": [],
   "source": [
    "city=data['City'].value_counts()"
   ]
  },
  {
   "cell_type": "code",
   "execution_count": 18,
   "metadata": {},
   "outputs": [
    {
     "data": {
      "image/png": "[encoded data removed]",
      "text/plain": [
       "<Figure size 1200x600 with 1 Axes>"
      ]
     },
     "metadata": {},
     "output_type": "display_data"
    }
   ],
   "source": [
    "plt.figure(figsize=(12,6))\n",
    "plt.bar(city.index,city.values)\n",
    "plt.show()"
   ]
  },
  {
   "cell_type": "code",
   "execution_count": 22,
   "metadata": {},
   "outputs": [
    {
     "data": {
      "text/plain": [
       "3.0     2191\n",
       "0.0     1001\n",
       "2.0      406\n",
       "4.0      220\n",
       "7.0        8\n",
       "16.0       5\n",
       "5.0        5\n",
       "8.0        4\n",
       "21.0       3\n",
       "18.0       3\n",
       "6.0        3\n",
       "1.0        3\n",
       "33.0       2\n",
       "50.0       2\n",
       "23.0       2\n",
       "22.0       2\n",
       "20.0       1\n",
       "27.0       1\n",
       "46.0       1\n",
       "13.0       1\n",
       "15.0       1\n",
       "Name: Bedrooms, dtype: int64"
      ]
     },
     "execution_count": 22,
     "metadata": {},
     "output_type": "execute_result"
    }
   ],
   "source": [
    "pn=data['Bedrooms'].value_counts()\n",
    "pn"
   ]
  },
  {
   "cell_type": "code",
   "execution_count": 29,
   "metadata": {},
   "outputs": [
    {
     "data": {
      "image/png": "[encoded data removed]",
      "text/plain": [
       "<Figure size 1200x600 with 1 Axes>"
      ]
     },
     "metadata": {},
     "output_type": "display_data"
    }
   ],
   "source": [
    "plt.figure(figsize=(12,6))\n",
    "plt.bar(list(map(str,pn.index)),pn.values)\n",
    "plt.show()"
   ]
  },
  {
   "cell_type": "code",
   "execution_count": 30,
   "metadata": {},
   "outputs": [
    {
     "data": {
      "text/plain": [
       "3.0     1763\n",
       "0.0     1001\n",
       "2.0      653\n",
       "4.0      324\n",
       "5.0       66\n",
       "10.0      24\n",
       "1.0       22\n",
       "8.0        8\n",
       "6.0        4\n",
       "Name: Bathrooms, dtype: int64"
      ]
     },
     "execution_count": 30,
     "metadata": {},
     "output_type": "execute_result"
    }
   ],
   "source": [
    "pt=data['Bathrooms'].value_counts()\n",
    "pt"
   ]
  },
  {
   "cell_type": "code",
   "execution_count": 33,
   "metadata": {},
   "outputs": [
    {
     "data": {
      "image/png": "[encoded data removed]",
      "text/plain": [
       "<Figure size 640x480 with 1 Axes>"
      ]
     },
     "metadata": {},
     "output_type": "display_data"
    }
   ],
   "source": [
    "plt.bar(list(map(str,pt.index)),pt.values)\n",
    "plt.show()"
   ]
  },
  {
   "cell_type": "code",
   "execution_count": 34,
   "metadata": {},
   "outputs": [
    {
     "data": {
      "text/plain": [
       "2160.0    233\n",
       "3600.0    190\n",
       "1300.0     99\n",
       "0.0        99\n",
       "1500.0     95\n",
       "         ... \n",
       "2636.0      1\n",
       "1549.0      1\n",
       "1017.0      1\n",
       "2071.0      1\n",
       "720.0       1\n",
       "Name: Floor_area, Length: 669, dtype: int64"
      ]
     },
     "execution_count": 34,
     "metadata": {},
     "output_type": "execute_result"
    }
   ],
   "source": [
    "dt=data['Floor_area'].value_counts()\n",
    "dt"
   ]
  },
  {
   "cell_type": "code",
   "execution_count": 40,
   "metadata": {},
   "outputs": [
    {
     "data": {
      "image/png": "[encoded data removed]",
      "text/plain": [
       "<Figure size 640x480 with 1 Axes>"
      ]
     },
     "metadata": {},
     "output_type": "display_data"
    }
   ],
   "source": [
    "plt.scatter(dt.index,dt.values,color='skyblue')\n",
    "plt.xlabel('Diện tích')\n",
    "plt.ylabel('Số lượng')\n",
    "plt.show()"
   ]
  },
  {
   "cell_type": "code",
   "execution_count": 48,
   "metadata": {},
   "outputs": [],
   "source": [
    "data['Price_in_taka_cleaned'] = data['Price_in_taka'].replace({'৳': '', ',': ''}, regex=True).astype(float)\n",
    "\n",
    "# Bước 2: Tỷ giá từ Taka sang VND (cập nhật tỷ giá thực tế)\n",
    "bdt_to_vnd = 223.50\n",
    "\n",
    "# Bước 3: Chuyển đổi tất cả giá trị trong cột sang VND\n",
    "data['Price_in_vnd'] = data['Price_in_taka_cleaned'] * bdt_to_vnd"
   ]
  },
  {
   "cell_type": "code",
   "execution_count": 49,
   "metadata": {},
   "outputs": [
    {
     "data": {
      "text/plain": [
       "1.022512e+09    177\n",
       "1.704188e+09    120\n",
       "1.341000e+09    105\n",
       "1.452750e+09     98\n",
       "1.117500e+09     94\n",
       "               ... \n",
       "3.514538e+09      1\n",
       "5.256720e+09      1\n",
       "3.132129e+09      1\n",
       "6.366398e+09      1\n",
       "7.504571e+08      1\n",
       "Name: Price_in_vnd, Length: 702, dtype: int64"
      ]
     },
     "execution_count": 49,
     "metadata": {},
     "output_type": "execute_result"
    }
   ],
   "source": [
    "gc=data['Price_in_vnd'] .value_counts()\n",
    "gc\n"
   ]
  },
  {
   "cell_type": "code",
   "execution_count": 50,
   "metadata": {},
   "outputs": [
    {
     "data": {
      "image/png": "[encoded data removed]",
      "text/plain": [
       "<Figure size 640x480 with 1 Axes>"
      ]
     },
     "metadata": {},
     "output_type": "display_data"
    }
   ],
   "source": [
    "plt.scatter(gc.index,gc.values,color='skyblue')\n",
    "plt.show()"
   ]
  },
  {
   "cell_type": "code",
   "execution_count": 51,
   "metadata": {},
   "outputs": [
    {
     "data": {
      "text/plain": [
       "Index(['Title', 'Bedrooms', 'Bathrooms', 'Floor_no', 'Occupancy_status',\n",
       "       'Floor_area', 'City', 'Price_in_taka', 'Location',\n",
       "       'Price_in_taka_cleaned', 'Price_in_vnd'],\n",
       "      dtype='object')"
      ]
     },
     "execution_count": 51,
     "metadata": {},
     "output_type": "execute_result"
    }
   ],
   "source": [
    "data.columns"
   ]
  },
  {
   "cell_type": "code",
   "execution_count": 55,
   "metadata": {},
   "outputs": [
    {
     "data": {
      "text/html": [
       "<div>\n",
       "<style scoped>\n",
       "    .dataframe tbody tr th:only-of-type {\n",
       "        vertical-align: middle;\n",
       "    }\n",
       "\n",
       "    .dataframe tbody tr th {\n",
       "        vertical-align: top;\n",
       "    }\n",
       "\n",
       "    .dataframe thead th {\n",
       "        text-align: right;\n",
       "    }\n",
       "</style>\n",
       "<table border=\"1\" class=\"dataframe\">\n",
       "  <thead>\n",
       "    <tr style=\"text-align: right;\">\n",
       "      <th></th>\n",
       "      <th>Bedrooms</th>\n",
       "      <th>Bathrooms</th>\n",
       "      <th>Floor_area</th>\n",
       "      <th>City</th>\n",
       "      <th>Price_in_vnd</th>\n",
       "    </tr>\n",
       "  </thead>\n",
       "  <tbody>\n",
       "    <tr>\n",
       "      <th>0</th>\n",
       "      <td>3.0</td>\n",
       "      <td>4.0</td>\n",
       "      <td>1960.0</td>\n",
       "      <td>dhaka</td>\n",
       "      <td>8.716500e+09</td>\n",
       "    </tr>\n",
       "    <tr>\n",
       "      <th>1</th>\n",
       "      <td>3.0</td>\n",
       "      <td>3.0</td>\n",
       "      <td>1705.0</td>\n",
       "      <td>dhaka</td>\n",
       "      <td>3.777150e+09</td>\n",
       "    </tr>\n",
       "    <tr>\n",
       "      <th>2</th>\n",
       "      <td>3.0</td>\n",
       "      <td>3.0</td>\n",
       "      <td>1370.0</td>\n",
       "      <td>dhaka</td>\n",
       "      <td>2.793750e+09</td>\n",
       "    </tr>\n",
       "    <tr>\n",
       "      <th>3</th>\n",
       "      <td>3.0</td>\n",
       "      <td>3.0</td>\n",
       "      <td>2125.0</td>\n",
       "      <td>dhaka</td>\n",
       "      <td>4.470000e+09</td>\n",
       "    </tr>\n",
       "    <tr>\n",
       "      <th>4</th>\n",
       "      <td>3.0</td>\n",
       "      <td>3.0</td>\n",
       "      <td>2687.0</td>\n",
       "      <td>dhaka</td>\n",
       "      <td>1.061625e+10</td>\n",
       "    </tr>\n",
       "    <tr>\n",
       "      <th>...</th>\n",
       "      <td>...</td>\n",
       "      <td>...</td>\n",
       "      <td>...</td>\n",
       "      <td>...</td>\n",
       "      <td>...</td>\n",
       "    </tr>\n",
       "    <tr>\n",
       "      <th>3860</th>\n",
       "      <td>3.0</td>\n",
       "      <td>3.0</td>\n",
       "      <td>1350.0</td>\n",
       "      <td>gazipur</td>\n",
       "      <td>1.005750e+09</td>\n",
       "    </tr>\n",
       "    <tr>\n",
       "      <th>3861</th>\n",
       "      <td>2.0</td>\n",
       "      <td>2.0</td>\n",
       "      <td>1000.0</td>\n",
       "      <td>gazipur</td>\n",
       "      <td>9.610500e+08</td>\n",
       "    </tr>\n",
       "    <tr>\n",
       "      <th>3862</th>\n",
       "      <td>3.0</td>\n",
       "      <td>3.0</td>\n",
       "      <td>1240.0</td>\n",
       "      <td>gazipur</td>\n",
       "      <td>1.108560e+09</td>\n",
       "    </tr>\n",
       "    <tr>\n",
       "      <th>3863</th>\n",
       "      <td>3.0</td>\n",
       "      <td>3.0</td>\n",
       "      <td>1300.0</td>\n",
       "      <td>gazipur</td>\n",
       "      <td>1.162200e+09</td>\n",
       "    </tr>\n",
       "    <tr>\n",
       "      <th>3864</th>\n",
       "      <td>3.0</td>\n",
       "      <td>3.0</td>\n",
       "      <td>1350.0</td>\n",
       "      <td>gazipur</td>\n",
       "      <td>1.005750e+09</td>\n",
       "    </tr>\n",
       "  </tbody>\n",
       "</table>\n",
       "<p>3865 rows × 5 columns</p>\n",
       "</div>"
      ],
      "text/plain": [
       "      Bedrooms  Bathrooms  Floor_area     City  Price_in_vnd\n",
       "0          3.0        4.0      1960.0    dhaka  8.716500e+09\n",
       "1          3.0        3.0      1705.0    dhaka  3.777150e+09\n",
       "2          3.0        3.0      1370.0    dhaka  2.793750e+09\n",
       "3          3.0        3.0      2125.0    dhaka  4.470000e+09\n",
       "4          3.0        3.0      2687.0    dhaka  1.061625e+10\n",
       "...        ...        ...         ...      ...           ...\n",
       "3860       3.0        3.0      1350.0  gazipur  1.005750e+09\n",
       "3861       2.0        2.0      1000.0  gazipur  9.610500e+08\n",
       "3862       3.0        3.0      1240.0  gazipur  1.108560e+09\n",
       "3863       3.0        3.0      1300.0  gazipur  1.162200e+09\n",
       "3864       3.0        3.0      1350.0  gazipur  1.005750e+09\n",
       "\n",
       "[3865 rows x 5 columns]"
      ]
     },
     "execution_count": 55,
     "metadata": {},
     "output_type": "execute_result"
    }
   ],
   "source": [
    "df=data[['Bedrooms', 'Bathrooms', 'Floor_area','City','Price_in_vnd']]\n",
    "df"
   ]
  },
  {
   "cell_type": "code",
   "execution_count": 57,
   "metadata": {},
   "outputs": [
    {
     "data": {
      "image/png": "[encoded data removed]",
      "text/plain": [
       "<Figure size 1200x600 with 1 Axes>"
      ]
     },
     "metadata": {},
     "output_type": "display_data"
    }
   ],
   "source": [
    "plt.figure(figsize=(12,6))\n",
    "plt.scatter(df['Bedrooms'], df['Price_in_vnd'], color='b', alpha=0.5)\n",
    "\n",
    "# Bước 3: Thêm tiêu đề và nhãn cho trục\n",
    "plt.title('Mối quan hệ giữa số phòng ngủ và giá cả', fontsize=16)\n",
    "plt.xlabel('Số phòng ngủ', fontsize=14)\n",
    "plt.ylabel('Giá cả (VND)', fontsize=14)\n",
    "\n",
    "# Bước 4: Hiển thị biểu đồ\n",
    "plt.grid(True)\n",
    "plt.show()"
   ]
  },
  {
   "cell_type": "code",
   "execution_count": null,
   "metadata": {},
   "outputs": [],
   "source": []
  },
  {
   "cell_type": "code",
   "execution_count": null,
   "metadata": {},
   "outputs": [],
   "source": []
  },
  {
   "cell_type": "code",
   "execution_count": null,
   "metadata": {},
   "outputs": [],
   "source": []
  },
  {
   "cell_type": "code",
   "execution_count": null,
   "metadata": {},
   "outputs": [],
   "source": []
  }
 ],
 "metadata": {
  "kernelspec": {
   "display_name": "Python 3",
   "language": "python",
   "name": "python3"
  },
  "language_info": {
   "codemirror_mode": {
    "name": "ipython",
    "version": 3
   },
   "file_extension": ".py",
   "mimetype": "text/x-python",
   "name": "python",
   "nbconvert_exporter": "python",
   "pygments_lexer": "ipython3",
   "version": "3.11.5"
  }
 },
 "nbformat": 4,
 "nbformat_minor": 2
}
